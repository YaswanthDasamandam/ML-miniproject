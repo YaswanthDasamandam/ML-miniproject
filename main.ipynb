{
 "cells": [
  {
   "cell_type": "code",
   "execution_count": 1,
   "metadata": {},
   "outputs": [],
   "source": [
    "from os import listdir\n",
    "from matplotlib import pyplot as plt\n",
    "import cv2\n",
    "\n",
    "from sklearn.model_selection import train_test_split\n",
    "import numpy as np\n",
    "\n",
    "\n",
    "image_array = []\n",
    "target_array = []\n",
    "\n",
    "catagories = ['mouse','Apple','Banana']\n",
    "\n",
    "\n",
    "for catagory in catagories:\n",
    "    directory = 'images/'+ catagory +'/'\n",
    "    for i in listdir(directory):\n",
    "        if i =='.ipynb_checkpoints':\n",
    "            continue\n",
    "        image = cv2.imread(directory+i)\n",
    "        gray_image = cv2.cvtColor(image,cv2.COLOR_BGR2GRAY)\n",
    "        gray_image_array = cv2.resize(gray_image,(150,150))\n",
    "        \n",
    "        \n",
    "        image_array.append(gray_image_array.flatten())\n",
    "        target_array.append(catagory)\n",
    "        \n",
    "        \n",
    "        \n",
    "X_train, X_test, y_train, y_test = train_test_split(image_array, target_array, random_state=0)\n"
   ]
  },
  {
   "cell_type": "code",
   "execution_count": 4,
   "metadata": {},
   "outputs": [],
   "source": [
    "from sklearn.svm import SVC\n",
    "model = SVC()\n",
    "\n",
    "\n",
    "model.fit(X=X_train,y=y_train)\n",
    "\n",
    "Y_predict = model.predict(X_test)"
   ]
  },
  {
   "cell_type": "code",
   "execution_count": 11,
   "metadata": {},
   "outputs": [
    {
     "data": {
      "text/plain": [
       "0.64"
      ]
     },
     "execution_count": 11,
     "metadata": {},
     "output_type": "execute_result"
    }
   ],
   "source": [
    "# sklearn.metrics.accuracy_score(y_true, y_pred, *, normalize=True, sample_weight=None)\n",
    "from sklearn.metrics import accuracy_score\n",
    "\n",
    "accuracy_score(y_test,Y_predict)"
   ]
  },
  {
   "cell_type": "code",
   "execution_count": null,
   "metadata": {},
   "outputs": [],
   "source": [
    "# Now remaining part is to train the model"
   ]
  },
  {
   "cell_type": "code",
   "execution_count": null,
   "metadata": {},
   "outputs": [],
   "source": []
  },
  {
   "cell_type": "code",
   "execution_count": null,
   "metadata": {},
   "outputs": [],
   "source": []
  },
  {
   "cell_type": "code",
   "execution_count": null,
   "metadata": {},
   "outputs": [],
   "source": [
    "# first import all the images\n",
    "\n",
    "# from PIL import Image\n",
    "from os import listdir\n",
    "from matplotlib import pyplot as plt\n",
    "import cv2\n",
    "\n",
    "from sklearn.model_selection import train_test_split\n",
    "import numpy as np\n",
    "\n",
    "image_arr = []\n",
    "target_arr =[]\n",
    " \n",
    "catageries = ['mouse','Apple','Banana']\n",
    "\n",
    "for catagory in catageries:\n",
    "    directory = 'images/'+ catagory +'/'\n",
    "    for i in listdir(directory):\n",
    "        if i =='.ipynb_checkpoints':\n",
    "            continue\n",
    "#         im = Image.open(directory+i)\n",
    "        im = cv2.imread(directory+i)\n",
    "        gray_image = cv2.cvtColor(im, cv2.COLOR_BGR2GRAY)\n",
    "        image_array = cv2.resize(gray_image,(150,150))\n",
    "        flat_image=image_array.flatten()\n",
    "#         print(flat_image.size)\n",
    "#         cv2.imshow('Grayscale',gray_image)\n",
    "#         cv2.destroyAllWindows()\n",
    "        plt.imshow(gray_image)\n",
    "        plt.show()\n",
    "        \n",
    "        \n",
    "        \n",
    "# PIL.JpegImagePlugin.JpegImageFile\n",
    "\n",
    "\n",
    "# print(image.format) # Output: JPEG\n",
    "\n",
    "# # The pixel format used by the image. Typical values are \"1\", \"L\", \"RGB\", or \"CMYK.\"\n",
    "# print(image.mode) # Output: RGB\n",
    "\n",
    "# # Image size, in pixels. The size is given as a 2-tuple (width, height).\n",
    "# print(image.size) # Output: (1920, 1280)\n",
    "\n",
    "# # Colour palette table, if any.\n",
    "# print(image.palette)\n"
   ]
  }
 ],
 "metadata": {
  "kernelspec": {
   "display_name": "Python 3",
   "language": "python",
   "name": "python3"
  },
  "language_info": {
   "codemirror_mode": {
    "name": "ipython",
    "version": 3
   },
   "file_extension": ".py",
   "mimetype": "text/x-python",
   "name": "python",
   "nbconvert_exporter": "python",
   "pygments_lexer": "ipython3",
   "version": "3.8.5"
  }
 },
 "nbformat": 4,
 "nbformat_minor": 4
}
