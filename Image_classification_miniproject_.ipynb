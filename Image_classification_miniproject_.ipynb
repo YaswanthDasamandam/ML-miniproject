{
  "nbformat": 4,
  "nbformat_minor": 0,
  "metadata": {
    "colab": {
      "name": "Image classification miniproject .ipynb",
      "provenance": [],
      "collapsed_sections": [],
      "authorship_tag": "ABX9TyPls7NVKJdq77VK3QcrT9BY",
      "include_colab_link": true
    },
    "kernelspec": {
      "name": "python3",
      "display_name": "Python 3"
    },
    "language_info": {
      "name": "python"
    }
  },
  "cells": [
    {
      "cell_type": "markdown",
      "metadata": {
        "id": "view-in-github",
        "colab_type": "text"
      },
      "source": [
        "<a href=\"https://colab.research.google.com/github/dysai1234/ML-miniproject/blob/main/Image_classification_miniproject_.ipynb\" target=\"_parent\"><img src=\"https://colab.research.google.com/assets/colab-badge.svg\" alt=\"Open In Colab\"/></a>"
      ]
    },
    {
      "cell_type": "code",
      "metadata": {
        "id": "Va6xtK77KMTv"
      },
      "source": [
        "from os import listdir\n",
        "from matplotlib import pyplot as plt\n",
        "import cv2\n",
        "\n",
        "from sklearn.model_selection import train_test_split\n",
        "import numpy as np\n",
        "\n",
        "\n",
        "image_array = []\n",
        "target_array = []\n",
        "\n",
        "catagories = ['Mouse','Apple','Banana']\n",
        "\n",
        "\n",
        "for catagory in catagories:\n",
        "    directory = 'images/'+ catagory +'/'\n",
        "    for i in listdir(directory):\n",
        "        if i =='.ipynb_checkpoints':\n",
        "            continue\n",
        "        image = cv2.imread(directory+i)\n",
        "        gray_image = cv2.cvtColor(image,cv2.COLOR_BGR2GRAY)\n",
        "        gray_image_array = cv2.resize(gray_image,(150,150))\n",
        "        \n",
        "        \n",
        "        image_array.append(gray_image_array.flatten())\n",
        "        target_array.append(catagory)\n",
        "        \n",
        "        \n",
        "        \n",
        "X_train, X_test, y_train, y_test = train_test_split(image_array, target_array, random_state=0)\n"
      ],
      "execution_count": 3,
      "outputs": []
    },
    {
      "cell_type": "code",
      "metadata": {
        "id": "kvVfThYEDhxD",
        "colab": {
          "base_uri": "https://localhost:8080/"
        },
        "outputId": "f032ae54-ce50-49b4-de00-ce1dbe9bca90"
      },
      "source": [
        "from sklearn.model_selection import GridSearchCV\n",
        "from sklearn.svm import SVC\n",
        "model = SVC()\n",
        "param = {\n",
        "    'kernel':['linear','rbf','poly'],\n",
        "    'C':[0.1,1,10,100]\n",
        "}\n",
        "\n",
        "grid = GridSearchCV(model,param,cv=5)\n",
        "grid.fit(X_train,y_train)\n",
        "grid.best_params_"
      ],
      "execution_count": 5,
      "outputs": [
        {
          "output_type": "execute_result",
          "data": {
            "text/plain": [
              "{'C': 0.1, 'kernel': 'poly'}"
            ]
          },
          "metadata": {
            "tags": []
          },
          "execution_count": 5
        }
      ]
    },
    {
      "cell_type": "code",
      "metadata": {
        "id": "GyPYItoaFCvW"
      },
      "source": [
        "\n",
        "model = SVC(C=1,kernel='poly')\n",
        "\n",
        "\n",
        "model.fit(X=X_train,y=y_train)\n",
        "\n",
        "Y_predict = model.predict(X_test)"
      ],
      "execution_count": 6,
      "outputs": []
    },
    {
      "cell_type": "code",
      "metadata": {
        "id": "lGhwTaNJM18m",
        "colab": {
          "base_uri": "https://localhost:8080/"
        },
        "outputId": "1c27b917-fbd5-4841-b3eb-6366e135995c"
      },
      "source": [
        "# sklearn.metrics.accuracy_score(y_true, y_pred, *, normalize=True, sample_weight=None)\n",
        "from sklearn.metrics import accuracy_score\n",
        "\n",
        "accuracy_score(y_test,Y_predict)"
      ],
      "execution_count": 7,
      "outputs": [
        {
          "output_type": "execute_result",
          "data": {
            "text/plain": [
              "0.72"
            ]
          },
          "metadata": {
            "tags": []
          },
          "execution_count": 7
        }
      ]
    },
    {
      "cell_type": "code",
      "metadata": {
        "id": "NmNL03A-M52_"
      },
      "source": [
        ""
      ],
      "execution_count": null,
      "outputs": []
    },
    {
      "cell_type": "code",
      "metadata": {
        "id": "INCujs9PFHEI"
      },
      "source": [
        ""
      ],
      "execution_count": null,
      "outputs": []
    },
    {
      "cell_type": "code",
      "metadata": {
        "id": "dlbCCyhPLqPL"
      },
      "source": [
        ""
      ],
      "execution_count": null,
      "outputs": []
    },
    {
      "cell_type": "code",
      "metadata": {
        "id": "dbIAYc2CLki7"
      },
      "source": [
        ""
      ],
      "execution_count": null,
      "outputs": []
    },
    {
      "cell_type": "code",
      "metadata": {
        "id": "iT8KVRuvFOw-"
      },
      "source": [
        ""
      ],
      "execution_count": null,
      "outputs": []
    },
    {
      "cell_type": "code",
      "metadata": {
        "id": "RCDN05spHXY3"
      },
      "source": [
        ""
      ],
      "execution_count": null,
      "outputs": []
    },
    {
      "cell_type": "code",
      "metadata": {
        "id": "p5HKTTF1Hj-L"
      },
      "source": [
        ""
      ],
      "execution_count": null,
      "outputs": []
    }
  ]
}